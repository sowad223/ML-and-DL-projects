{
  "cells": [
    {
      "cell_type": "markdown",
      "id": "08cfeea3",
      "metadata": {
        "id": "08cfeea3"
      },
      "source": [
        "# Sentiment Analysis with Fine-Tuned BERT"
      ]
    },
    {
      "cell_type": "markdown",
      "id": "b33a7c15",
      "metadata": {
        "id": "b33a7c15"
      },
      "source": [
        "This project demonstrates how to build a sentiment analysis system using a fine-tuned BERT model."
      ]
    },
    {
      "cell_type": "code",
      "execution_count": 2,
      "id": "13e539d0",
      "metadata": {
        "colab": {
          "base_uri": "https://localhost:8080/"
        },
        "id": "13e539d0",
        "outputId": "90c2a9ac-078b-46da-cca8-fc75886310b8"
      },
      "outputs": [
        {
          "output_type": "stream",
          "name": "stdout",
          "text": [
            "Requirement already satisfied: transformers in /usr/local/lib/python3.10/dist-packages (4.46.2)\n",
            "Requirement already satisfied: tensorflow in /usr/local/lib/python3.10/dist-packages (2.17.1)\n",
            "Requirement already satisfied: pandas in /usr/local/lib/python3.10/dist-packages (2.2.2)\n",
            "Requirement already satisfied: scikit-learn in /usr/local/lib/python3.10/dist-packages (1.5.2)\n",
            "Requirement already satisfied: matplotlib in /usr/local/lib/python3.10/dist-packages (3.8.0)\n",
            "Requirement already satisfied: filelock in /usr/local/lib/python3.10/dist-packages (from transformers) (3.16.1)\n",
            "Requirement already satisfied: huggingface-hub<1.0,>=0.23.2 in /usr/local/lib/python3.10/dist-packages (from transformers) (0.26.2)\n",
            "Requirement already satisfied: numpy>=1.17 in /usr/local/lib/python3.10/dist-packages (from transformers) (1.26.4)\n",
            "Requirement already satisfied: packaging>=20.0 in /usr/local/lib/python3.10/dist-packages (from transformers) (24.2)\n",
            "Requirement already satisfied: pyyaml>=5.1 in /usr/local/lib/python3.10/dist-packages (from transformers) (6.0.2)\n",
            "Requirement already satisfied: regex!=2019.12.17 in /usr/local/lib/python3.10/dist-packages (from transformers) (2024.9.11)\n",
            "Requirement already satisfied: requests in /usr/local/lib/python3.10/dist-packages (from transformers) (2.32.3)\n",
            "Requirement already satisfied: safetensors>=0.4.1 in /usr/local/lib/python3.10/dist-packages (from transformers) (0.4.5)\n",
            "Requirement already satisfied: tokenizers<0.21,>=0.20 in /usr/local/lib/python3.10/dist-packages (from transformers) (0.20.3)\n",
            "Requirement already satisfied: tqdm>=4.27 in /usr/local/lib/python3.10/dist-packages (from transformers) (4.66.6)\n",
            "Requirement already satisfied: absl-py>=1.0.0 in /usr/local/lib/python3.10/dist-packages (from tensorflow) (1.4.0)\n",
            "Requirement already satisfied: astunparse>=1.6.0 in /usr/local/lib/python3.10/dist-packages (from tensorflow) (1.6.3)\n",
            "Requirement already satisfied: flatbuffers>=24.3.25 in /usr/local/lib/python3.10/dist-packages (from tensorflow) (24.3.25)\n",
            "Requirement already satisfied: gast!=0.5.0,!=0.5.1,!=0.5.2,>=0.2.1 in /usr/local/lib/python3.10/dist-packages (from tensorflow) (0.6.0)\n",
            "Requirement already satisfied: google-pasta>=0.1.1 in /usr/local/lib/python3.10/dist-packages (from tensorflow) (0.2.0)\n",
            "Requirement already satisfied: h5py>=3.10.0 in /usr/local/lib/python3.10/dist-packages (from tensorflow) (3.12.1)\n",
            "Requirement already satisfied: libclang>=13.0.0 in /usr/local/lib/python3.10/dist-packages (from tensorflow) (18.1.1)\n",
            "Requirement already satisfied: ml-dtypes<0.5.0,>=0.3.1 in /usr/local/lib/python3.10/dist-packages (from tensorflow) (0.4.1)\n",
            "Requirement already satisfied: opt-einsum>=2.3.2 in /usr/local/lib/python3.10/dist-packages (from tensorflow) (3.4.0)\n",
            "Requirement already satisfied: protobuf!=4.21.0,!=4.21.1,!=4.21.2,!=4.21.3,!=4.21.4,!=4.21.5,<5.0.0dev,>=3.20.3 in /usr/local/lib/python3.10/dist-packages (from tensorflow) (4.25.5)\n",
            "Requirement already satisfied: setuptools in /usr/local/lib/python3.10/dist-packages (from tensorflow) (75.1.0)\n",
            "Requirement already satisfied: six>=1.12.0 in /usr/local/lib/python3.10/dist-packages (from tensorflow) (1.16.0)\n",
            "Requirement already satisfied: termcolor>=1.1.0 in /usr/local/lib/python3.10/dist-packages (from tensorflow) (2.5.0)\n",
            "Requirement already satisfied: typing-extensions>=3.6.6 in /usr/local/lib/python3.10/dist-packages (from tensorflow) (4.12.2)\n",
            "Requirement already satisfied: wrapt>=1.11.0 in /usr/local/lib/python3.10/dist-packages (from tensorflow) (1.16.0)\n",
            "Requirement already satisfied: grpcio<2.0,>=1.24.3 in /usr/local/lib/python3.10/dist-packages (from tensorflow) (1.68.0)\n",
            "Requirement already satisfied: tensorboard<2.18,>=2.17 in /usr/local/lib/python3.10/dist-packages (from tensorflow) (2.17.1)\n",
            "Requirement already satisfied: keras>=3.2.0 in /usr/local/lib/python3.10/dist-packages (from tensorflow) (3.5.0)\n",
            "Requirement already satisfied: tensorflow-io-gcs-filesystem>=0.23.1 in /usr/local/lib/python3.10/dist-packages (from tensorflow) (0.37.1)\n",
            "Requirement already satisfied: python-dateutil>=2.8.2 in /usr/local/lib/python3.10/dist-packages (from pandas) (2.8.2)\n",
            "Requirement already satisfied: pytz>=2020.1 in /usr/local/lib/python3.10/dist-packages (from pandas) (2024.2)\n",
            "Requirement already satisfied: tzdata>=2022.7 in /usr/local/lib/python3.10/dist-packages (from pandas) (2024.2)\n",
            "Requirement already satisfied: scipy>=1.6.0 in /usr/local/lib/python3.10/dist-packages (from scikit-learn) (1.13.1)\n",
            "Requirement already satisfied: joblib>=1.2.0 in /usr/local/lib/python3.10/dist-packages (from scikit-learn) (1.4.2)\n",
            "Requirement already satisfied: threadpoolctl>=3.1.0 in /usr/local/lib/python3.10/dist-packages (from scikit-learn) (3.5.0)\n",
            "Requirement already satisfied: contourpy>=1.0.1 in /usr/local/lib/python3.10/dist-packages (from matplotlib) (1.3.1)\n",
            "Requirement already satisfied: cycler>=0.10 in /usr/local/lib/python3.10/dist-packages (from matplotlib) (0.12.1)\n",
            "Requirement already satisfied: fonttools>=4.22.0 in /usr/local/lib/python3.10/dist-packages (from matplotlib) (4.55.0)\n",
            "Requirement already satisfied: kiwisolver>=1.0.1 in /usr/local/lib/python3.10/dist-packages (from matplotlib) (1.4.7)\n",
            "Requirement already satisfied: pillow>=6.2.0 in /usr/local/lib/python3.10/dist-packages (from matplotlib) (11.0.0)\n",
            "Requirement already satisfied: pyparsing>=2.3.1 in /usr/local/lib/python3.10/dist-packages (from matplotlib) (3.2.0)\n",
            "Requirement already satisfied: wheel<1.0,>=0.23.0 in /usr/local/lib/python3.10/dist-packages (from astunparse>=1.6.0->tensorflow) (0.45.0)\n",
            "Requirement already satisfied: fsspec>=2023.5.0 in /usr/local/lib/python3.10/dist-packages (from huggingface-hub<1.0,>=0.23.2->transformers) (2024.10.0)\n",
            "Requirement already satisfied: rich in /usr/local/lib/python3.10/dist-packages (from keras>=3.2.0->tensorflow) (13.9.4)\n",
            "Requirement already satisfied: namex in /usr/local/lib/python3.10/dist-packages (from keras>=3.2.0->tensorflow) (0.0.8)\n",
            "Requirement already satisfied: optree in /usr/local/lib/python3.10/dist-packages (from keras>=3.2.0->tensorflow) (0.13.1)\n",
            "Requirement already satisfied: charset-normalizer<4,>=2 in /usr/local/lib/python3.10/dist-packages (from requests->transformers) (3.4.0)\n",
            "Requirement already satisfied: idna<4,>=2.5 in /usr/local/lib/python3.10/dist-packages (from requests->transformers) (3.10)\n",
            "Requirement already satisfied: urllib3<3,>=1.21.1 in /usr/local/lib/python3.10/dist-packages (from requests->transformers) (2.2.3)\n",
            "Requirement already satisfied: certifi>=2017.4.17 in /usr/local/lib/python3.10/dist-packages (from requests->transformers) (2024.8.30)\n",
            "Requirement already satisfied: markdown>=2.6.8 in /usr/local/lib/python3.10/dist-packages (from tensorboard<2.18,>=2.17->tensorflow) (3.7)\n",
            "Requirement already satisfied: tensorboard-data-server<0.8.0,>=0.7.0 in /usr/local/lib/python3.10/dist-packages (from tensorboard<2.18,>=2.17->tensorflow) (0.7.2)\n",
            "Requirement already satisfied: werkzeug>=1.0.1 in /usr/local/lib/python3.10/dist-packages (from tensorboard<2.18,>=2.17->tensorflow) (3.1.3)\n",
            "Requirement already satisfied: MarkupSafe>=2.1.1 in /usr/local/lib/python3.10/dist-packages (from werkzeug>=1.0.1->tensorboard<2.18,>=2.17->tensorflow) (3.0.2)\n",
            "Requirement already satisfied: markdown-it-py>=2.2.0 in /usr/local/lib/python3.10/dist-packages (from rich->keras>=3.2.0->tensorflow) (3.0.0)\n",
            "Requirement already satisfied: pygments<3.0.0,>=2.13.0 in /usr/local/lib/python3.10/dist-packages (from rich->keras>=3.2.0->tensorflow) (2.18.0)\n",
            "Requirement already satisfied: mdurl~=0.1 in /usr/local/lib/python3.10/dist-packages (from markdown-it-py>=2.2.0->rich->keras>=3.2.0->tensorflow) (0.1.2)\n"
          ]
        }
      ],
      "source": [
        "\n",
        "\n",
        "!pip install transformers tensorflow pandas scikit-learn matplotlib\n",
        ""
      ]
    },
    {
      "cell_type": "code",
      "source": [
        "!wget -O imdb.csv https://raw.githubusercontent.com/datasets/sentiment/master/data/imdb.csv\n"
      ],
      "metadata": {
        "colab": {
          "base_uri": "https://localhost:8080/"
        },
        "id": "lGXHQ41aQvxs",
        "outputId": "b1fe88a9-fbd4-4e8f-a223-115754a8628e"
      },
      "id": "lGXHQ41aQvxs",
      "execution_count": 4,
      "outputs": [
        {
          "output_type": "stream",
          "name": "stdout",
          "text": [
            "--2024-11-21 15:06:54--  https://raw.githubusercontent.com/datasets/sentiment/master/data/imdb.csv\n",
            "Resolving raw.githubusercontent.com (raw.githubusercontent.com)... 185.199.108.133, 185.199.109.133, 185.199.110.133, ...\n",
            "Connecting to raw.githubusercontent.com (raw.githubusercontent.com)|185.199.108.133|:443... connected.\n",
            "HTTP request sent, awaiting response... 404 Not Found\n",
            "2024-11-21 15:06:55 ERROR 404: Not Found.\n",
            "\n"
          ]
        }
      ]
    },
    {
      "cell_type": "markdown",
      "id": "e2f95f0e",
      "metadata": {
        "id": "e2f95f0e"
      },
      "source": [
        "## Step 1: Load Dataset"
      ]
    },
    {
      "cell_type": "code",
      "source": [
        "\n",
        "import pandas as pd\n",
        "\n",
        "\n",
        "url = \"imdb.csv\"\n",
        "data = pd.read_csv(url)\n",
        "\n",
        "\n",
        "print(data.head())\n",
        "\n",
        "\n",
        ""
      ],
      "metadata": {
        "id": "wrp_GpMVQuxL"
      },
      "id": "wrp_GpMVQuxL",
      "execution_count": null,
      "outputs": []
    },
    {
      "cell_type": "markdown",
      "id": "7685fea5",
      "metadata": {
        "id": "7685fea5"
      },
      "source": [
        "## Step 2: Preprocess Text"
      ]
    },
    {
      "cell_type": "code",
      "execution_count": null,
      "id": "f5ad6746",
      "metadata": {
        "id": "f5ad6746"
      },
      "outputs": [],
      "source": [
        "\n",
        "import re\n",
        "\n",
        "def preprocess_text(text):\n",
        "\n",
        "    text = re.sub(r\"http\\S+\", \"\", text)\n",
        "\n",
        "    text = re.sub(r\"@\\w+\", \"\", text)\n",
        "\n",
        "    text = re.sub(r\"[^a-zA-Z\\s]\", \"\", text)\n",
        "\n",
        "    text = text.lower()\n",
        "    return text\n",
        "\n",
        "data['clean_text'] = data['text'].apply(preprocess_text)\n",
        ""
      ]
    },
    {
      "cell_type": "markdown",
      "id": "aca0aef4",
      "metadata": {
        "id": "aca0aef4"
      },
      "source": [
        "## Step 3: Split Data into Train and Test Sets"
      ]
    },
    {
      "cell_type": "code",
      "execution_count": null,
      "id": "16ee62c1",
      "metadata": {
        "id": "16ee62c1"
      },
      "outputs": [],
      "source": [
        "\n",
        "from sklearn.model_selection import train_test_split\n",
        "\n",
        "X_train, X_test, y_train, y_test = train_test_split(\n",
        "    data['clean_text'], data['label'], test_size=0.2, random_state=42\n",
        ")\n",
        ""
      ]
    },
    {
      "cell_type": "markdown",
      "id": "5ded425d",
      "metadata": {
        "id": "5ded425d"
      },
      "source": [
        "## Step 4: Tokenization using BERT Tokenizer"
      ]
    },
    {
      "cell_type": "code",
      "execution_count": null,
      "id": "bdde3d81",
      "metadata": {
        "id": "bdde3d81"
      },
      "outputs": [],
      "source": [
        "\n",
        "from transformers import BertTokenizer\n",
        "\n",
        "tokenizer = BertTokenizer.from_pretrained('bert-base-uncased')\n",
        "\n",
        "\n",
        "def tokenize_data(texts, max_len=128):\n",
        "    return tokenizer(\n",
        "        list(texts),\n",
        "        max_length=max_len,\n",
        "        padding='max_length',\n",
        "        truncation=True,\n",
        "        return_tensors=\"tf\"\n",
        "    )\n",
        "\n",
        "train_tokens = tokenize_data(X_train)\n",
        "test_tokens = tokenize_data(X_test)\n",
        ""
      ]
    },
    {
      "cell_type": "markdown",
      "id": "7033bccf",
      "metadata": {
        "id": "7033bccf"
      },
      "source": [
        "## Step 5: Load Pre-Trained BERT and Fine-Tune"
      ]
    },
    {
      "cell_type": "code",
      "execution_count": null,
      "id": "b99960cb",
      "metadata": {
        "id": "b99960cb"
      },
      "outputs": [],
      "source": [
        "\n",
        "from transformers import TFBertForSequenceClassification\n",
        "\n",
        "\n",
        "model = TFBertForSequenceClassification.from_pretrained('bert-base-uncased', num_labels=2)\n",
        ""
      ]
    },
    {
      "cell_type": "markdown",
      "id": "da294d00",
      "metadata": {
        "id": "da294d00"
      },
      "source": [
        "### Compile the Model"
      ]
    },
    {
      "cell_type": "code",
      "execution_count": null,
      "id": "1e24ed21",
      "metadata": {
        "id": "1e24ed21"
      },
      "outputs": [],
      "source": [
        "\n",
        "import tensorflow as tf\n",
        "\n",
        "model.compile(\n",
        "    optimizer=tf.keras.optimizers.Adam(learning_rate=2e-5),\n",
        "    loss=tf.keras.losses.SparseCategoricalCrossentropy(from_logits=True),\n",
        "    metrics=['accuracy']\n",
        ")\n",
        ""
      ]
    },
    {
      "cell_type": "markdown",
      "id": "efacbea1",
      "metadata": {
        "id": "efacbea1"
      },
      "source": [
        "### Train the Model"
      ]
    },
    {
      "cell_type": "code",
      "execution_count": null,
      "id": "d5e0a204",
      "metadata": {
        "id": "d5e0a204"
      },
      "outputs": [],
      "source": [
        "\n",
        "history = model.fit(\n",
        "    x={'input_ids': train_tokens['input_ids'], 'attention_mask': train_tokens['attention_mask']},\n",
        "    y=y_train,\n",
        "    validation_data=(\n",
        "        {'input_ids': test_tokens['input_ids'], 'attention_mask': test_tokens['attention_mask']}, y_test\n",
        "    ),\n",
        "    epochs=3,\n",
        "    batch_size=16\n",
        ")\n",
        ""
      ]
    },
    {
      "cell_type": "markdown",
      "id": "468d7c28",
      "metadata": {
        "id": "468d7c28"
      },
      "source": [
        "## Step 6: Evaluate the Model"
      ]
    },
    {
      "cell_type": "code",
      "execution_count": null,
      "id": "5d045af1",
      "metadata": {
        "id": "5d045af1"
      },
      "outputs": [],
      "source": [
        "\n",
        "results = model.evaluate(\n",
        "    x={'input_ids': test_tokens['input_ids'], 'attention_mask': test_tokens['attention_mask']},\n",
        "    y=y_test\n",
        ")\n",
        "print(\"Test Accuracy: {:.2f}%\".format(results[1] * 100))\n",
        ""
      ]
    },
    {
      "cell_type": "markdown",
      "id": "5e95e293",
      "metadata": {
        "id": "5e95e293"
      },
      "source": [
        "## Step 7: Test the Model on Custom Inputs"
      ]
    },
    {
      "cell_type": "code",
      "execution_count": null,
      "id": "6c47c9f9",
      "metadata": {
        "id": "6c47c9f9"
      },
      "outputs": [],
      "source": [
        "\n",
        "def predict_sentiment(text):\n",
        "    tokens = tokenize_data([text])\n",
        "    output = model.predict({'input_ids': tokens['input_ids'], 'attention_mask': tokens['attention_mask']})\n",
        "    sentiment = tf.argmax(output.logits, axis=1).numpy()[0]\n",
        "    return \"Positive\" if sentiment == 1 else \"Negative\"\n",
        "\n",
        "print(predict_sentiment(\"I absolutely loved this product!\"))\n",
        "print(predict_sentiment(\"It was a terrible experience.\"))\n",
        ""
      ]
    },
    {
      "cell_type": "markdown",
      "id": "86bb9ef8",
      "metadata": {
        "id": "86bb9ef8"
      },
      "source": [
        "## Step 8: Save the Model"
      ]
    },
    {
      "cell_type": "code",
      "execution_count": null,
      "id": "95e838c6",
      "metadata": {
        "id": "95e838c6"
      },
      "outputs": [],
      "source": [
        "\n",
        "model.save('bert_sentiment_model')\n",
        ""
      ]
    },
    {
      "cell_type": "markdown",
      "id": "442a9d7c",
      "metadata": {
        "id": "442a9d7c"
      },
      "source": [
        "## Step 9: Deploy with FastAPI (Optional)"
      ]
    },
    {
      "cell_type": "code",
      "execution_count": null,
      "id": "7ada0a9c",
      "metadata": {
        "id": "7ada0a9c"
      },
      "outputs": [],
      "source": [
        "\n",
        "from fastapi import FastAPI\n",
        "\n",
        "app = FastAPI()\n",
        "\n",
        "@app.post(\"/predict/\")\n",
        "def predict(text: str):\n",
        "    tokens = tokenizer([text], max_length=128, truncation=True, padding='max_length', return_tensors='tf')\n",
        "    output = model.predict({'input_ids': tokens['input_ids'], 'attention_mask': tokens['attention_mask']})\n",
        "    sentiment = tf.argmax(output.logits, axis=1).numpy()[0]\n",
        "    return {\"sentiment\": \"Positive\" if sentiment == 1 else \"Negative\"}\n",
        ""
      ]
    }
  ],
  "metadata": {
    "colab": {
      "provenance": [],
      "gpuType": "T4"
    },
    "accelerator": "GPU",
    "language_info": {
      "name": "python"
    },
    "kernelspec": {
      "name": "python3",
      "display_name": "Python 3"
    }
  },
  "nbformat": 4,
  "nbformat_minor": 5
}