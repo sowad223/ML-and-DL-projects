{
  "nbformat": 4,
  "nbformat_minor": 0,
  "metadata": {
    "colab": {
      "provenance": [],
      "gpuType": "T4"
    },
    "kernelspec": {
      "name": "python3",
      "display_name": "Python 3"
    },
    "language_info": {
      "name": "python"
    },
    "accelerator": "GPU"
  },
  "cells": [
    {
      "cell_type": "code",
      "execution_count": null,
      "metadata": {
        "colab": {
          "base_uri": "https://localhost:8080/"
        },
        "id": "ws1nLZm-8639",
        "outputId": "f0f4bccc-e196-4b01-f232-d2c1f2327a3b"
      },
      "outputs": [
        {
          "metadata": {
            "tags": null
          },
          "name": "stdout",
          "output_type": "stream",
          "text": [
            "cuda\n",
            "Downloading https://www.cs.toronto.edu/~kriz/cifar-100-python.tar.gz to ./cifar-100-python.tar.gz\n"
          ]
        },
        {
          "metadata": {
            "tags": null
          },
          "name": "stderr",
          "output_type": "stream",
          "text": [
            "100%|██████████| 169001437/169001437 [00:04<00:00, 40025723.94it/s]\n"
          ]
        },
        {
          "metadata": {
            "tags": null
          },
          "name": "stdout",
          "output_type": "stream",
          "text": [
            "Extracting ./cifar-100-python.tar.gz to .\n",
            "Files already downloaded and verified\n",
            "Epoch: 1/20\n"
          ]
        },
        {
          "metadata": {
            "tags": null
          },
          "name": "stderr",
          "output_type": "stream",
          "text": [
            "100%|██████████| 782/782 [00:30<00:00, 25.27it/s]"
          ]
        },
        {
          "metadata": {
            "tags": null
          },
          "name": "stdout",
          "output_type": "stream",
          "text": [
            "Loss : 4.071591485796682\n"
          ]
        },
        {
          "metadata": {
            "tags": null
          },
          "name": "stderr",
          "output_type": "stream",
          "text": [
            "\n"
          ]
        },
        {
          "metadata": {
            "tags": null
          },
          "name": "stdout",
          "output_type": "stream",
          "text": [
            "Validation Loss: 3.6543931739807127\n",
            "Training Accuracy: 10.704%\n",
            "Validation Accuracy: 10.54%\n",
            "Epoch: 2/20\n"
          ]
        },
        {
          "metadata": {
            "tags": null
          },
          "name": "stderr",
          "output_type": "stream",
          "text": [
            "100%|██████████| 782/782 [00:29<00:00, 26.17it/s]"
          ]
        },
        {
          "metadata": {
            "tags": null
          },
          "name": "stdout",
          "output_type": "stream",
          "text": [
            "Loss : 3.349058596679317\n"
          ]
        },
        {
          "metadata": {
            "tags": null
          },
          "name": "stderr",
          "output_type": "stream",
          "text": [
            "\n"
          ]
        },
        {
          "metadata": {
            "tags": null
          },
          "name": "stdout",
          "output_type": "stream",
          "text": [
            "Validation Loss: 3.1546891929626466\n",
            "Training Accuracy: 21.316%\n",
            "Validation Accuracy: 20.04%\n",
            "Epoch: 3/20\n"
          ]
        },
        {
          "metadata": {
            "tags": null
          },
          "name": "stderr",
          "output_type": "stream",
          "text": [
            "100%|██████████| 782/782 [00:29<00:00, 26.79it/s]"
          ]
        },
        {
          "metadata": {
            "tags": null
          },
          "name": "stdout",
          "output_type": "stream",
          "text": [
            "Loss : 2.841142408378289\n"
          ]
        },
        {
          "metadata": {
            "tags": null
          },
          "name": "stderr",
          "output_type": "stream",
          "text": [
            "\n"
          ]
        },
        {
          "metadata": {
            "tags": null
          },
          "name": "stdout",
          "output_type": "stream",
          "text": [
            "Validation Loss: 2.8016028091430663\n",
            "Training Accuracy: 28.36%\n",
            "Validation Accuracy: 25.92%\n",
            "Epoch: 4/20\n"
          ]
        },
        {
          "metadata": {
            "tags": null
          },
          "name": "stderr",
          "output_type": "stream",
          "text": [
            "100%|██████████| 782/782 [00:29<00:00, 26.82it/s]"
          ]
        },
        {
          "metadata": {
            "tags": null
          },
          "name": "stdout",
          "output_type": "stream",
          "text": [
            "Loss : 2.5013085800363584\n"
          ]
        },
        {
          "metadata": {
            "tags": null
          },
          "name": "stderr",
          "output_type": "stream",
          "text": [
            "\n"
          ]
        },
        {
          "metadata": {
            "tags": null
          },
          "name": "stdout",
          "output_type": "stream",
          "text": [
            "Validation Loss: 2.3724672286987305\n",
            "Training Accuracy: 39.758%\n",
            "Validation Accuracy: 35.47%\n",
            "Epoch: 5/20\n"
          ]
        },
        {
          "metadata": {
            "tags": null
          },
          "name": "stderr",
          "output_type": "stream",
          "text": [
            "100%|██████████| 782/782 [00:29<00:00, 26.57it/s]\n"
          ]
        },
        {
          "metadata": {
            "tags": null
          },
          "name": "stdout",
          "output_type": "stream",
          "text": [
            "Loss : 2.2159183049750757\n",
            "Validation Loss: 2.2166119879722594\n",
            "Training Accuracy: 46.244%\n",
            "Validation Accuracy: 40.61%\n",
            "Epoch: 6/20\n"
          ]
        },
        {
          "metadata": {
            "tags": null
          },
          "name": "stderr",
          "output_type": "stream",
          "text": [
            "100%|██████████| 782/782 [00:29<00:00, 26.78it/s]"
          ]
        },
        {
          "metadata": {
            "tags": null
          },
          "name": "stdout",
          "output_type": "stream",
          "text": [
            "Loss : 1.9889310642581461\n"
          ]
        },
        {
          "metadata": {
            "tags": null
          },
          "name": "stderr",
          "output_type": "stream",
          "text": [
            "\n"
          ]
        },
        {
          "metadata": {
            "tags": null
          },
          "name": "stdout",
          "output_type": "stream",
          "text": [
            "Validation Loss: 2.1146539039611816\n",
            "Training Accuracy: 50.656%\n",
            "Validation Accuracy: 42.71%\n",
            "Epoch: 7/20\n"
          ]
        },
        {
          "metadata": {
            "tags": null
          },
          "name": "stderr",
          "output_type": "stream",
          "text": [
            "100%|██████████| 782/782 [00:29<00:00, 26.82it/s]"
          ]
        },
        {
          "metadata": {
            "tags": null
          },
          "name": "stdout",
          "output_type": "stream",
          "text": [
            "Loss : 1.7836175310947096\n"
          ]
        },
        {
          "metadata": {
            "tags": null
          },
          "name": "stderr",
          "output_type": "stream",
          "text": [
            "\n"
          ]
        },
        {
          "metadata": {
            "tags": null
          },
          "name": "stdout",
          "output_type": "stream",
          "text": [
            "Validation Loss: 2.1127246894836427\n",
            "Training Accuracy: 53.936%\n",
            "Validation Accuracy: 44.26%\n",
            "Epoch: 8/20\n"
          ]
        },
        {
          "metadata": {
            "tags": null
          },
          "name": "stderr",
          "output_type": "stream",
          "text": [
            "100%|██████████| 782/782 [00:29<00:00, 26.86it/s]"
          ]
        },
        {
          "metadata": {
            "tags": null
          },
          "name": "stdout",
          "output_type": "stream",
          "text": [
            "Loss : 1.599436997223998\n"
          ]
        },
        {
          "metadata": {
            "tags": null
          },
          "name": "stderr",
          "output_type": "stream",
          "text": [
            "\n"
          ]
        },
        {
          "metadata": {
            "tags": null
          },
          "name": "stdout",
          "output_type": "stream",
          "text": [
            "Validation Loss: 2.080459170341492\n",
            "Training Accuracy: 56.92%\n",
            "Validation Accuracy: 43.98%\n",
            "Epoch: 9/20\n"
          ]
        },
        {
          "metadata": {
            "tags": null
          },
          "name": "stderr",
          "output_type": "stream",
          "text": [
            "100%|██████████| 782/782 [00:29<00:00, 26.68it/s]"
          ]
        },
        {
          "metadata": {
            "tags": null
          },
          "name": "stdout",
          "output_type": "stream",
          "text": [
            "Loss : 1.4279816174293722\n"
          ]
        },
        {
          "metadata": {
            "tags": null
          },
          "name": "stderr",
          "output_type": "stream",
          "text": [
            "\n"
          ]
        },
        {
          "metadata": {
            "tags": null
          },
          "name": "stdout",
          "output_type": "stream",
          "text": [
            "Validation Loss: 1.9643234005928039\n",
            "Training Accuracy: 64.208%\n",
            "Validation Accuracy: 48.25%\n",
            "Epoch: 10/20\n"
          ]
        },
        {
          "metadata": {
            "tags": null
          },
          "name": "stderr",
          "output_type": "stream",
          "text": [
            "100%|██████████| 782/782 [00:30<00:00, 25.47it/s]\n"
          ]
        },
        {
          "metadata": {
            "tags": null
          },
          "name": "stdout",
          "output_type": "stream",
          "text": [
            "Loss : 1.280661998807317\n",
            "Validation Loss: 1.9965588027000427\n",
            "Training Accuracy: 66.428%\n",
            "Validation Accuracy: 48.08%\n",
            "Epoch: 11/20\n"
          ]
        },
        {
          "metadata": {
            "tags": null
          },
          "name": "stderr",
          "output_type": "stream",
          "text": [
            "100%|██████████| 782/782 [00:29<00:00, 26.81it/s]"
          ]
        },
        {
          "metadata": {
            "tags": null
          },
          "name": "stdout",
          "output_type": "stream",
          "text": [
            "Loss : 1.1432767960116685\n"
          ]
        },
        {
          "metadata": {
            "tags": null
          },
          "name": "stderr",
          "output_type": "stream",
          "text": [
            "\n"
          ]
        },
        {
          "output_type": "stream",
          "name": "stdout",
          "text": [
            "Validation Loss: 2.113909791660309\n",
            "Training Accuracy: 67.366%\n",
            "Validation Accuracy: 47.44%\n",
            "Epoch: 12/20\n"
          ]
        },
        {
          "output_type": "stream",
          "name": "stderr",
          "text": [
            "100%|██████████| 782/782 [00:29<00:00, 26.70it/s]"
          ]
        },
        {
          "output_type": "stream",
          "name": "stdout",
          "text": [
            "Loss : 1.019283703754625\n"
          ]
        },
        {
          "output_type": "stream",
          "name": "stderr",
          "text": [
            "\n"
          ]
        },
        {
          "output_type": "stream",
          "name": "stdout",
          "text": [
            "Validation Loss: 1.87649134683609\n",
            "Training Accuracy: 77.274%\n",
            "Validation Accuracy: 51.98%\n",
            "Epoch: 13/20\n"
          ]
        },
        {
          "output_type": "stream",
          "name": "stderr",
          "text": [
            "100%|██████████| 782/782 [00:29<00:00, 26.61it/s]"
          ]
        },
        {
          "output_type": "stream",
          "name": "stdout",
          "text": [
            "Loss : 0.9082797095751214\n"
          ]
        },
        {
          "output_type": "stream",
          "name": "stderr",
          "text": [
            "\n"
          ]
        },
        {
          "output_type": "stream",
          "name": "stdout",
          "text": [
            "Validation Loss: 2.1323276458740232\n",
            "Training Accuracy: 73.57%\n",
            "Validation Accuracy: 49.29%\n",
            "Epoch: 14/20\n"
          ]
        },
        {
          "output_type": "stream",
          "name": "stderr",
          "text": [
            "100%|██████████| 782/782 [00:29<00:00, 26.75it/s]"
          ]
        },
        {
          "output_type": "stream",
          "name": "stdout",
          "text": [
            "Loss : 0.792633721209548\n"
          ]
        },
        {
          "output_type": "stream",
          "name": "stderr",
          "text": [
            "\n"
          ]
        },
        {
          "output_type": "stream",
          "name": "stdout",
          "text": [
            "Validation Loss: 2.0306976181983947\n",
            "Training Accuracy: 80.89%\n",
            "Validation Accuracy: 52.17%\n",
            "Epoch: 15/20\n"
          ]
        },
        {
          "output_type": "stream",
          "name": "stderr",
          "text": [
            "100%|██████████| 782/782 [00:29<00:00, 26.76it/s]\n"
          ]
        },
        {
          "output_type": "stream",
          "name": "stdout",
          "text": [
            "Loss : 0.7079309276912523\n",
            "Validation Loss: 2.10864481549263\n",
            "Training Accuracy: 83.296%\n",
            "Validation Accuracy: 51.57%\n",
            "Epoch: 16/20\n"
          ]
        },
        {
          "output_type": "stream",
          "name": "stderr",
          "text": [
            "100%|██████████| 782/782 [00:29<00:00, 26.74it/s]"
          ]
        },
        {
          "output_type": "stream",
          "name": "stdout",
          "text": [
            "Loss : 0.62935220608321\n"
          ]
        },
        {
          "output_type": "stream",
          "name": "stderr",
          "text": [
            "\n"
          ]
        },
        {
          "output_type": "stream",
          "name": "stdout",
          "text": [
            "Validation Loss: 2.235491169452667\n",
            "Training Accuracy: 82.278%\n",
            "Validation Accuracy: 49.8%\n",
            "Epoch: 17/20\n"
          ]
        },
        {
          "output_type": "stream",
          "name": "stderr",
          "text": [
            "100%|██████████| 782/782 [00:29<00:00, 26.57it/s]"
          ]
        },
        {
          "output_type": "stream",
          "name": "stdout",
          "text": [
            "Loss : 0.5419336638753981\n"
          ]
        },
        {
          "output_type": "stream",
          "name": "stderr",
          "text": [
            "\n"
          ]
        },
        {
          "output_type": "stream",
          "name": "stdout",
          "text": [
            "Validation Loss: 2.1440990741729737\n",
            "Training Accuracy: 86.712%\n",
            "Validation Accuracy: 51.89%\n",
            "Epoch: 18/20\n"
          ]
        },
        {
          "output_type": "stream",
          "name": "stderr",
          "text": [
            "100%|██████████| 782/782 [00:29<00:00, 26.71it/s]"
          ]
        },
        {
          "output_type": "stream",
          "name": "stdout",
          "text": [
            "Loss : 0.49806351433782015\n"
          ]
        },
        {
          "output_type": "stream",
          "name": "stderr",
          "text": [
            "\n"
          ]
        },
        {
          "output_type": "stream",
          "name": "stdout",
          "text": [
            "Validation Loss: 2.170386949825287\n",
            "Training Accuracy: 87.964%\n",
            "Validation Accuracy: 51.47%\n",
            "Epoch: 19/20\n"
          ]
        },
        {
          "output_type": "stream",
          "name": "stderr",
          "text": [
            "100%|██████████| 782/782 [00:29<00:00, 26.72it/s]"
          ]
        },
        {
          "output_type": "stream",
          "name": "stdout",
          "text": [
            "Loss : 0.42868658155202866\n"
          ]
        },
        {
          "output_type": "stream",
          "name": "stderr",
          "text": [
            "\n"
          ]
        },
        {
          "output_type": "stream",
          "name": "stdout",
          "text": [
            "Validation Loss: 2.2181636924266814\n",
            "Training Accuracy: 89.916%\n",
            "Validation Accuracy: 52.85%\n",
            "Epoch: 20/20\n"
          ]
        },
        {
          "output_type": "stream",
          "name": "stderr",
          "text": [
            "100%|██████████| 782/782 [00:29<00:00, 26.78it/s]\n"
          ]
        },
        {
          "output_type": "stream",
          "name": "stdout",
          "text": [
            "Loss : 0.40072877610773994\n",
            "Validation Loss: 2.2080140793323517\n",
            "Training Accuracy: 91.128%\n",
            "Validation Accuracy: 53.13%\n"
          ]
        }
      ],
      "source": [
        "import os\n",
        "import torch\n",
        "import torch.nn as nn\n",
        "import torch.nn.functional as F\n",
        "from torchvision.datasets import CIFAR100\n",
        "from torchvision import transforms\n",
        "from torch.utils.data import DataLoader\n",
        "from tqdm import tqdm\n",
        "from datetime import datetime\n",
        "\n",
        "# Defining model\n",
        "arch = [64, 64, 'M', 128, 128, 'M', 256, 256, 'M', 512, 512, 512, 'M', 512, 512, 512, 'M']\n",
        "\n",
        "class VGGNet(nn.Module):\n",
        "    def __init__(self, in_channels, num_classes):\n",
        "        super().__init__()\n",
        "        self.in_channels = in_channels\n",
        "        self.conv_layers = self.create_conv_layers(arch)\n",
        "        self.fcs = nn.Sequential(\n",
        "            nn.Linear(in_features=512*1*1, out_features=4096),\n",
        "            nn.ReLU(),\n",
        "            nn.Dropout(0.5),\n",
        "            nn.Linear(in_features=4096, out_features=4096),\n",
        "            nn.ReLU(),\n",
        "            nn.Dropout(0.5),\n",
        "            nn.Linear(4096, num_classes)\n",
        "        )\n",
        "\n",
        "    def forward(self, x):\n",
        "        x = self.conv_layers(x)\n",
        "        x = x.reshape(x.shape[0], -1)\n",
        "        x = self.fcs(x)\n",
        "        return x\n",
        "\n",
        "    def create_conv_layers(self, arch):\n",
        "        layers = []\n",
        "        in_channels = self.in_channels\n",
        "\n",
        "        for x in arch:\n",
        "            if type(x) == int:\n",
        "                out_channels = x\n",
        "                layers += [nn.Conv2d(in_channels=in_channels, out_channels=out_channels, kernel_size=(3, 3), stride=(1, 1), padding=(1, 1)),\n",
        "                           nn.BatchNorm2d(x),\n",
        "                           nn.ReLU()]\n",
        "                in_channels = x\n",
        "            elif x == 'M':\n",
        "                layers += [nn.MaxPool2d(kernel_size=(2, 2), stride=(2, 2))]\n",
        "\n",
        "        return nn.Sequential(*layers)\n",
        "\n",
        "# Hyperparameters and settings\n",
        "\n",
        "device = \"cuda\" if torch.cuda.is_available() else \"cpu\"\n",
        "print(device)\n",
        "TRAIN_BATCH_SIZE = 64\n",
        "VAL_BATCH_SIZE = 16\n",
        "EPOCHS = 20\n",
        "\n",
        "train_data = CIFAR100(root=\".\", train=True, transform=transforms.Compose([transforms.ToTensor()]), download=True)\n",
        "val_data = CIFAR100(root=\".\", train=False, transform=transforms.Compose([transforms.ToTensor()]), download=True)\n",
        "\n",
        "train_loader = DataLoader(train_data, batch_size=TRAIN_BATCH_SIZE, shuffle=True, num_workers=2)\n",
        "val_loader = DataLoader(val_data, batch_size=VAL_BATCH_SIZE, shuffle=True, num_workers=2)\n",
        "\n",
        "num_train_batches = len(train_loader)\n",
        "num_val_batches = len(val_loader)\n",
        "\n",
        "# Training and Val Loop\n",
        "\n",
        "model = VGGNet(3, 100).to(device)  # Updated number of classes to 100\n",
        "criterion = nn.CrossEntropyLoss()\n",
        "optimizer = torch.optim.SGD(model.parameters(), lr=0.01, momentum=0.9, weight_decay=5e-4)\n",
        "scheduler = torch.optim.lr_scheduler.ReduceLROnPlateau(optimizer, patience=10)\n",
        "\n",
        "def calculate_accuracy(loader, model):\n",
        "    correct = 0\n",
        "    total = 0\n",
        "    model.eval()\n",
        "    with torch.no_grad():\n",
        "        for data in loader:\n",
        "            images, labels = data\n",
        "            images, labels = images.to(device), labels.to(device)\n",
        "            outputs = model(images)\n",
        "            _, predicted = torch.max(outputs.data, 1)\n",
        "            total += labels.size(0)\n",
        "            correct += (predicted == labels).sum().item()\n",
        "    return 100 * correct / total\n",
        "\n",
        "def train_val():\n",
        "    for epoch in range(1, EPOCHS + 1):\n",
        "        print(f\"Epoch: {epoch}/{EPOCHS}\")\n",
        "        model.train()\n",
        "        total_loss = 0\n",
        "        for data in tqdm(train_loader):\n",
        "            image, target = data[0], data[1]\n",
        "            image, target = image.to(device), target.to(device)\n",
        "            optimizer.zero_grad()\n",
        "            output = model(image)\n",
        "            loss = criterion(output, target)\n",
        "            total_loss += loss.item()\n",
        "            loss.backward()\n",
        "            optimizer.step()\n",
        "        print(f\"Loss : {total_loss / num_train_batches}\")\n",
        "\n",
        "        save_path = os.path.join(\"trained_models\", f'{datetime.now().strftime(\"%m%d_%H%M%S\")}_{epoch}.pth')\n",
        "\n",
        "        if not os.path.exists(\"trained_models\"):\n",
        "            os.makedirs(\"trained_models\")\n",
        "        if epoch % 5 == 0:\n",
        "            torch.save(model.state_dict(), save_path)\n",
        "\n",
        "        val_loss = 0\n",
        "        model.eval()\n",
        "        with torch.no_grad():\n",
        "            for data in val_loader:\n",
        "                images, labels = data\n",
        "                images, labels = images.to(device), labels.to(device)\n",
        "                outputs = model(images)\n",
        "                loss = criterion(outputs, labels)\n",
        "                val_loss += loss.item()\n",
        "\n",
        "        val_loss /= num_val_batches\n",
        "        print(f\"Validation Loss: {val_loss}\")\n",
        "\n",
        "        train_accuracy = calculate_accuracy(train_loader, model)\n",
        "        val_accuracy = calculate_accuracy(val_loader, model)\n",
        "        print(f\"Training Accuracy: {train_accuracy}%\")\n",
        "        print(f\"Validation Accuracy: {val_accuracy}%\")\n",
        "\n",
        "        scheduler.step(val_loss)\n",
        "\n",
        "train_val()\n"
      ]
    },
    {
      "cell_type": "code",
      "source": [
        "import torch\n",
        "import torch.nn as nn\n",
        "import torchvision.transforms as transforms\n",
        "import torchvision.datasets as datasets\n",
        "import torchvision.models as models\n",
        "import torch.optim as optim\n",
        "import torch.utils.data as data\n",
        "\n",
        "# Load the pre-trained VGG-16 model\n",
        "pretrained_model = models.vgg16(pretrained=True)\n",
        "\n",
        "# Modify the classifier to accommodate 100 classes\n",
        "pretrained_model.classifier[6] = nn.Linear(4096, 100)\n",
        "\n",
        "# Transfer the model to GPU if available\n",
        "device = torch.device(\"cuda\" if torch.cuda.is_available() else \"gpu\")\n",
        "pretrained_model.to(device)\n",
        "# Data augmentation and normalization for training\n",
        "transform_train = transforms.Compose([\n",
        "    transforms.RandomCrop(32, padding=4),\n",
        "    transforms.RandomHorizontalFlip(),\n",
        "    transforms.ToTensor(),\n",
        "    transforms.Normalize((0.5071, 0.4867, 0.4408), (0.2675, 0.2565, 0.2761))\n",
        "])\n",
        "\n",
        "# Normalization for testing\n",
        "transform_test = transforms.Compose([\n",
        "    transforms.ToTensor(),\n",
        "    transforms.Normalize((0.5071, 0.4867, 0.4408), (0.2675, 0.2565, 0.2761))\n",
        "])\n",
        "\n",
        "# Load CIFAR-100 dataset\n",
        "train_dataset = datasets.CIFAR100(root='./data', train=True, download=True, transform=transform_train)\n",
        "test_dataset = datasets.CIFAR100(root='./data', train=False, download=True, transform=transform_test)\n",
        "\n",
        "train_loader = data.DataLoader(train_dataset, batch_size=128, shuffle=True, num_workers=2)\n",
        "test_loader = data.DataLoader(test_dataset, batch_size=100, shuffle=False, num_workers=2)\n",
        "# Define the loss function and optimizer\n",
        "criterion = nn.CrossEntropyLoss()\n",
        "optimizer = optim.SGD(pretrained_model.parameters(), lr=0.01, momentum=0.9, weight_decay=5e-4)\n",
        "# Training function\n",
        "def train_model(model, train_loader, criterion, optimizer, num_epochs=50):\n",
        "    model.train()\n",
        "    for epoch in range(num_epochs):\n",
        "        running_loss = 0.0\n",
        "        for inputs, labels in train_loader:\n",
        "            inputs, labels = inputs.to(device), labels.to(device)\n",
        "\n",
        "            optimizer.zero_grad()\n",
        "            outputs = model(inputs)\n",
        "            loss = criterion(outputs, labels)\n",
        "            loss.backward()\n",
        "            optimizer.step()\n",
        "            running_loss += loss.item()\n",
        "\n",
        "        print(f'Epoch [{epoch+1}/{num_epochs}], Loss: {running_loss/len(train_loader)}')\n",
        "\n",
        "# Train the model\n",
        "train_model(pretrained_model, train_loader, criterion, optimizer, num_epochs=50)\n",
        "# Evaluation function\n",
        "def evaluate_model(model, test_loader, criterion):\n",
        "    model.eval()\n",
        "    correct = 0\n",
        "    total = 0\n",
        "    running_loss = 0.0\n",
        "    with torch.no_grad():\n",
        "        for inputs, labels in test_loader:\n",
        "            inputs, labels = inputs.to(device), labels.to(device)\n",
        "            outputs = model(inputs)\n",
        "            loss = criterion(outputs, labels)\n",
        "            running_loss += loss.item()\n",
        "            _, predicted = torch.max(outputs.data, 1)\n",
        "            total += labels.size(0)\n",
        "            correct += (predicted == labels).sum().item()\n",
        "\n",
        "    accuracy = 100 * correct / total\n",
        "    loss = running_loss / len(test_loader)\n",
        "    return accuracy, loss\n",
        "\n",
        "# Evaluate the model\n",
        "train_accuracy, train_loss = evaluate_model(pretrained_model, train_loader, criterion)\n",
        "test_accuracy, test_loss = evaluate_model(pretrained_model, test_loader, criterion)\n",
        "\n",
        "print(f'Training Accuracy: {train_accuracy}%, Training Loss: {train_loss}')\n",
        "print(f'Test Accuracy: {test_accuracy}%, Test Loss: {test_loss}')\n"
      ],
      "metadata": {
        "colab": {
          "base_uri": "https://localhost:8080/"
        },
        "id": "mxy11EetM_1K",
        "outputId": "37bdd531-df5a-45b3-a0d7-9feae45a0ed5"
      },
      "execution_count": null,
      "outputs": [
        {
          "output_type": "stream",
          "name": "stdout",
          "text": [
            "Files already downloaded and verified\n",
            "Files already downloaded and verified\n",
            "Epoch [1/50], Loss: 2.7244497824203022\n",
            "Epoch [2/50], Loss: 1.938762121188366\n",
            "Epoch [3/50], Loss: 1.6785478582772453\n",
            "Epoch [4/50], Loss: 1.5024753397383044\n",
            "Epoch [5/50], Loss: 1.361984170001486\n",
            "Epoch [6/50], Loss: 1.2822484552402935\n",
            "Epoch [7/50], Loss: 1.1966991198947057\n",
            "Epoch [8/50], Loss: 1.1165104828527213\n",
            "Epoch [9/50], Loss: 1.0606586956002217\n",
            "Epoch [10/50], Loss: 1.0017253799206765\n",
            "Epoch [11/50], Loss: 0.9530996014090145\n",
            "Epoch [12/50], Loss: 0.9256395188438923\n",
            "Epoch [13/50], Loss: 0.8755124939219726\n",
            "Epoch [14/50], Loss: 0.8376456636297124\n",
            "Epoch [15/50], Loss: 0.800411134348501\n",
            "Epoch [16/50], Loss: 0.7691053159706428\n",
            "Epoch [17/50], Loss: 0.7324947165253827\n",
            "Epoch [18/50], Loss: 0.71348589048971\n",
            "Epoch [19/50], Loss: 0.6970498329385773\n",
            "Epoch [20/50], Loss: 0.6614624529390993\n",
            "Epoch [21/50], Loss: 0.6482480296393489\n",
            "Epoch [22/50], Loss: 0.6363333194609493\n",
            "Epoch [23/50], Loss: 0.610279957732886\n",
            "Epoch [24/50], Loss: 0.5880527760061767\n",
            "Epoch [25/50], Loss: 0.5731740770742412\n",
            "Epoch [26/50], Loss: 0.5592863546003162\n",
            "Epoch [27/50], Loss: 0.5312565683632555\n",
            "Epoch [28/50], Loss: 0.5278394295431464\n",
            "Epoch [29/50], Loss: 0.5077377836341443\n",
            "Epoch [30/50], Loss: 0.495153708264346\n",
            "Epoch [31/50], Loss: 0.4862465258601986\n",
            "Epoch [32/50], Loss: 0.4890138868556913\n",
            "Epoch [33/50], Loss: 0.4672464855644099\n",
            "Epoch [34/50], Loss: 0.44874844964965227\n",
            "Epoch [35/50], Loss: 0.4463051303725718\n",
            "Epoch [36/50], Loss: 0.4422666549377734\n",
            "Epoch [37/50], Loss: 0.4270532060309749\n",
            "Epoch [38/50], Loss: 0.42352355185829466\n",
            "Epoch [39/50], Loss: 0.4122292826623868\n",
            "Epoch [40/50], Loss: 0.4236419261111628\n",
            "Epoch [41/50], Loss: 0.40917528445458473\n",
            "Epoch [42/50], Loss: 0.4047156767467099\n",
            "Epoch [43/50], Loss: 0.40482548843411836\n",
            "Epoch [44/50], Loss: 0.3888590223039203\n",
            "Epoch [45/50], Loss: 0.3652778922215752\n",
            "Epoch [46/50], Loss: 0.3780610677988633\n",
            "Epoch [47/50], Loss: 0.36526844759121574\n",
            "Epoch [48/50], Loss: 0.3500071868414769\n",
            "Epoch [49/50], Loss: 0.3446110678679498\n",
            "Epoch [50/50], Loss: 0.3515777061205081\n",
            "Training Accuracy: 90.844%, Training Loss: 0.29833933046025696\n",
            "Test Accuracy: 65.88%, Test Loss: 1.5708323675394058\n"
          ]
        }
      ]
    },
    {
      "cell_type": "code",
      "source": [
        "!pip install torch torchvision\n",
        "\n",
        "import torch\n",
        "import torch.nn as nn\n",
        "import torchvision.transforms as transforms\n",
        "import torchvision.datasets as datasets\n",
        "import torchvision.models as models\n",
        "import torch.optim as optim\n",
        "import torch.utils.data as data\n",
        "\n",
        "# Load the pre-trained VGG-16 model\n",
        "pretrained_model = models.vgg16(pretrained=True)\n",
        "\n",
        "# Freeze all the fully connected layers except the last one\n",
        "for param in pretrained_model.classifier[:-1].parameters():\n",
        "    param.requires_grad = False\n",
        "\n",
        "# Modify the classifier to accommodate 100 classes\n",
        "pretrained_model.classifier[6] = nn.Linear(4096, 100)\n",
        "\n",
        "# Transfer the model to GPU if available\n",
        "device = torch.device(\"cuda\" if torch.cuda.is_available() else \"gpu\")\n",
        "pretrained_model.to(device)\n",
        "\n",
        "# Data augmentation and normalization for training\n",
        "transform_train = transforms.Compose([\n",
        "    transforms.RandomCrop(32, padding=4),\n",
        "    transforms.RandomHorizontalFlip(),\n",
        "    transforms.ToTensor(),\n",
        "    transforms.Normalize((0.5071, 0.4867, 0.4408), (0.2675, 0.2565, 0.2761))\n",
        "])\n",
        "\n",
        "# Normalization for testing\n",
        "transform_test = transforms.Compose([\n",
        "    transforms.ToTensor(),\n",
        "    transforms.Normalize((0.5071, 0.4867, 0.4408), (0.2675, 0.2565, 0.2761))\n",
        "])\n",
        "\n",
        "# Load CIFAR-100 dataset\n",
        "train_dataset = datasets.CIFAR100(root='./data', train=True, download=True, transform=transform_train)\n",
        "test_dataset = datasets.CIFAR100(root='./data', train=False, download=True, transform=transform_test)\n",
        "\n",
        "train_loader = data.DataLoader(train_dataset, batch_size=128, shuffle=True, num_workers=2)\n",
        "test_loader = data.DataLoader(test_dataset, batch_size=100, shuffle=False, num_workers=2)\n",
        "\n",
        "# Define the loss function and optimizer\n",
        "criterion = nn.CrossEntropyLoss()\n",
        "optimizer = optim.SGD(pretrained_model.parameters(), lr=0.01, momentum=0.9, weight_decay=5e-4)\n",
        "\n",
        "# Training function\n",
        "def train_model(model, train_loader, criterion, optimizer, num_epochs=50):\n",
        "    model.train()\n",
        "    for epoch in range(num_epochs):\n",
        "        running_loss = 0.0\n",
        "        for inputs, labels in train_loader:\n",
        "            inputs, labels = inputs.to(device), labels.to(device)\n",
        "\n",
        "            optimizer.zero_grad()\n",
        "            outputs = model(inputs)\n",
        "            loss = criterion(outputs, labels)\n",
        "            loss.backward()\n",
        "            optimizer.step()\n",
        "            running_loss += loss.item()\n",
        "\n",
        "        print(f'Epoch [{epoch+1}/{num_epochs}], Loss: {running_loss/len(train_loader)}')\n",
        "\n",
        "# Train the model\n",
        "train_model(pretrained_model, train_loader, criterion, optimizer, num_epochs=50)\n",
        "\n",
        "# Evaluation function\n",
        "def evaluate_model(model, loader, criterion):\n",
        "    model.eval()\n",
        "    correct = 0\n",
        "    total = 0\n",
        "    running_loss = 0.0\n",
        "    with torch.no_grad():\n",
        "        for inputs, labels in loader:\n",
        "            inputs, labels = inputs.to(device), labels.to(device)\n",
        "            outputs = model(inputs)\n",
        "            loss = criterion(outputs, labels)\n",
        "            running_loss += loss.item()\n",
        "            _, predicted = torch.max(outputs.data, 1)\n",
        "            total += labels.size(0)\n",
        "            correct += (predicted == labels).sum().item()\n",
        "\n",
        "    accuracy = 100 * correct / total\n",
        "    loss = running_loss / len(loader)\n",
        "    return accuracy, loss\n",
        "\n",
        "# Evaluate the model\n",
        "train_accuracy, train_loss = evaluate_model(pretrained_model, train_loader, criterion)\n",
        "test_accuracy, test_loss = evaluate_model(pretrained_model, test_loader, criterion)\n",
        "\n",
        "print(f'Training Accuracy: {train_accuracy}%, Training Loss: {train_loss}')\n",
        "print(f'Test Accuracy: {test_accuracy}%, Test Loss: {test_loss}')\n",
        "\n",
        "\n",
        "\n",
        "\n"
      ],
      "metadata": {
        "colab": {
          "base_uri": "https://localhost:8080/"
        },
        "id": "8TYVU1xEbi35",
        "outputId": "79c72824-4ee1-4d46-8fa3-96d8e0c3a13e"
      },
      "execution_count": null,
      "outputs": [
        {
          "output_type": "stream",
          "name": "stdout",
          "text": [
            "Requirement already satisfied: torch in /usr/local/lib/python3.10/dist-packages (2.3.0+cu121)\n",
            "Requirement already satisfied: torchvision in /usr/local/lib/python3.10/dist-packages (0.18.0+cu121)\n",
            "Requirement already satisfied: filelock in /usr/local/lib/python3.10/dist-packages (from torch) (3.14.0)\n",
            "Requirement already satisfied: typing-extensions>=4.8.0 in /usr/local/lib/python3.10/dist-packages (from torch) (4.12.1)\n",
            "Requirement already satisfied: sympy in /usr/local/lib/python3.10/dist-packages (from torch) (1.12.1)\n",
            "Requirement already satisfied: networkx in /usr/local/lib/python3.10/dist-packages (from torch) (3.3)\n",
            "Requirement already satisfied: jinja2 in /usr/local/lib/python3.10/dist-packages (from torch) (3.1.4)\n",
            "Requirement already satisfied: fsspec in /usr/local/lib/python3.10/dist-packages (from torch) (2023.6.0)\n",
            "Requirement already satisfied: nvidia-cuda-nvrtc-cu12==12.1.105 in /usr/local/lib/python3.10/dist-packages (from torch) (12.1.105)\n",
            "Requirement already satisfied: nvidia-cuda-runtime-cu12==12.1.105 in /usr/local/lib/python3.10/dist-packages (from torch) (12.1.105)\n",
            "Requirement already satisfied: nvidia-cuda-cupti-cu12==12.1.105 in /usr/local/lib/python3.10/dist-packages (from torch) (12.1.105)\n",
            "Requirement already satisfied: nvidia-cudnn-cu12==8.9.2.26 in /usr/local/lib/python3.10/dist-packages (from torch) (8.9.2.26)\n",
            "Requirement already satisfied: nvidia-cublas-cu12==12.1.3.1 in /usr/local/lib/python3.10/dist-packages (from torch) (12.1.3.1)\n",
            "Requirement already satisfied: nvidia-cufft-cu12==11.0.2.54 in /usr/local/lib/python3.10/dist-packages (from torch) (11.0.2.54)\n",
            "Requirement already satisfied: nvidia-curand-cu12==10.3.2.106 in /usr/local/lib/python3.10/dist-packages (from torch) (10.3.2.106)\n",
            "Requirement already satisfied: nvidia-cusolver-cu12==11.4.5.107 in /usr/local/lib/python3.10/dist-packages (from torch) (11.4.5.107)\n",
            "Requirement already satisfied: nvidia-cusparse-cu12==12.1.0.106 in /usr/local/lib/python3.10/dist-packages (from torch) (12.1.0.106)\n",
            "Requirement already satisfied: nvidia-nccl-cu12==2.20.5 in /usr/local/lib/python3.10/dist-packages (from torch) (2.20.5)\n",
            "Requirement already satisfied: nvidia-nvtx-cu12==12.1.105 in /usr/local/lib/python3.10/dist-packages (from torch) (12.1.105)\n",
            "Requirement already satisfied: triton==2.3.0 in /usr/local/lib/python3.10/dist-packages (from torch) (2.3.0)\n",
            "Requirement already satisfied: nvidia-nvjitlink-cu12 in /usr/local/lib/python3.10/dist-packages (from nvidia-cusolver-cu12==11.4.5.107->torch) (12.5.40)\n",
            "Requirement already satisfied: numpy in /usr/local/lib/python3.10/dist-packages (from torchvision) (1.25.2)\n",
            "Requirement already satisfied: pillow!=8.3.*,>=5.3.0 in /usr/local/lib/python3.10/dist-packages (from torchvision) (9.4.0)\n",
            "Requirement already satisfied: MarkupSafe>=2.0 in /usr/local/lib/python3.10/dist-packages (from jinja2->torch) (2.1.5)\n",
            "Requirement already satisfied: mpmath<1.4.0,>=1.1.0 in /usr/local/lib/python3.10/dist-packages (from sympy->torch) (1.3.0)\n",
            "Files already downloaded and verified\n",
            "Files already downloaded and verified\n",
            "Epoch [1/50], Loss: 2.7554748372348676\n",
            "Epoch [2/50], Loss: 1.9268384549928748\n",
            "Epoch [3/50], Loss: 1.6630108530259193\n",
            "Epoch [4/50], Loss: 1.5015466289447092\n",
            "Epoch [5/50], Loss: 1.3782220270932484\n",
            "Epoch [6/50], Loss: 1.2645685928861807\n",
            "Epoch [7/50], Loss: 1.1803875240828374\n",
            "Epoch [8/50], Loss: 1.1108896209455816\n",
            "Epoch [9/50], Loss: 1.0531237052224787\n",
            "Epoch [10/50], Loss: 0.9950851465734984\n",
            "Epoch [11/50], Loss: 0.9370342691231262\n",
            "Epoch [12/50], Loss: 0.9101732301590083\n",
            "Epoch [13/50], Loss: 0.8646299855788345\n",
            "Epoch [14/50], Loss: 0.8380627183962965\n",
            "Epoch [15/50], Loss: 0.7891150593300305\n",
            "Epoch [16/50], Loss: 0.7594345751625803\n",
            "Epoch [17/50], Loss: 0.7251285621729653\n",
            "Epoch [18/50], Loss: 0.7126562694454437\n",
            "Epoch [19/50], Loss: 0.67493488675798\n",
            "Epoch [20/50], Loss: 0.6498098653143324\n",
            "Epoch [21/50], Loss: 0.632088006609846\n",
            "Epoch [22/50], Loss: 0.6174919390312547\n",
            "Epoch [23/50], Loss: 0.5925803928424025\n",
            "Epoch [24/50], Loss: 0.5792154661377372\n",
            "Epoch [25/50], Loss: 0.5598895309678734\n",
            "Epoch [26/50], Loss: 0.543067402851856\n",
            "Epoch [27/50], Loss: 0.5305543823925125\n",
            "Epoch [28/50], Loss: 0.5182566760141222\n",
            "Epoch [29/50], Loss: 0.5093764729816895\n",
            "Epoch [30/50], Loss: 0.49610498044496915\n",
            "Epoch [31/50], Loss: 0.470361326051795\n",
            "Epoch [32/50], Loss: 0.4672684943889413\n",
            "Epoch [33/50], Loss: 0.46047453761405654\n",
            "Epoch [34/50], Loss: 0.4433545894025232\n",
            "Epoch [35/50], Loss: 0.4379082609854086\n",
            "Epoch [36/50], Loss: 0.441440736355684\n",
            "Epoch [37/50], Loss: 0.42827020871364857\n",
            "Epoch [38/50], Loss: 0.4175629724779397\n",
            "Epoch [39/50], Loss: 0.4102175641242805\n",
            "Epoch [40/50], Loss: 0.40248184028031575\n",
            "Epoch [41/50], Loss: 0.3891496765415382\n",
            "Epoch [42/50], Loss: 0.3812710179392334\n",
            "Epoch [43/50], Loss: 0.37350077633662604\n",
            "Epoch [44/50], Loss: 0.37109725897574364\n",
            "Epoch [45/50], Loss: 0.36695027092228766\n",
            "Epoch [46/50], Loss: 0.3579479177360949\n",
            "Epoch [47/50], Loss: 0.362756868228888\n",
            "Epoch [48/50], Loss: 0.3463601346515938\n",
            "Epoch [49/50], Loss: 0.34848847539376115\n",
            "Epoch [50/50], Loss: 0.3372328197940841\n",
            "Training Accuracy: 89.738%, Training Loss: 0.3178373734893091\n",
            "Test Accuracy: 65.86%, Test Loss: 1.5721226394176484\n"
          ]
        }
      ]
    },
    {
      "cell_type": "code",
      "source": [],
      "metadata": {
        "id": "Y9PGL8-7bjAd"
      },
      "execution_count": null,
      "outputs": []
    }
  ]
}